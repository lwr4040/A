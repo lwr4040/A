{
 "cells": [
  {
   "cell_type": "code",
   "execution_count": 2,
   "metadata": {},
   "outputs": [],
   "source": [
    "def get_clf_eval(y_test=None, pred=None):\n",
    "    confusion= confusion_matrix(y_test, pred)\n",
    "    accuracy= accuracy_score(y_test, pred)\n",
    "    precision= precision_score(y_test, pred)\n",
    "    recall= recall_score(y_test, pred)\n",
    "    f1= f1_score(y_test.pred)\n",
    "    roc_auc= roc_auc_score(y_test, pred)\n",
    "    print('오차 행렬')\n",
    "    print(confusion)\n",
    "    print('정확도: {0:.4f}, 정밀도: {1:.4f}, 재현율:{2:.4f},F1:{3:.4f},AUC:{4:.4f}'.format(auccuracy, precision, recall, f1, roc_auc))"
   ]
  },
  {
   "cell_type": "code",
   "execution_count": null,
   "metadata": {},
   "outputs": [],
   "source": [
    "def precision_recall+"
   ]
  }
 ],
 "metadata": {
  "kernelspec": {
   "display_name": "Python 3",
   "language": "python",
   "name": "python3"
  },
  "language_info": {
   "codemirror_mode": {
    "name": "ipython",
    "version": 3
   },
   "file_extension": ".py",
   "mimetype": "text/x-python",
   "name": "python",
   "nbconvert_exporter": "python",
   "pygments_lexer": "ipython3",
   "version": "3.8.5"
  }
 },
 "nbformat": 4,
 "nbformat_minor": 4
}
